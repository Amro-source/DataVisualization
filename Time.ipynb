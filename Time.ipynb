{
  "nbformat": 4,
  "nbformat_minor": 0,
  "metadata": {
    "colab": {
      "name": "Time.ipynb",
      "provenance": [],
      "authorship_tag": "ABX9TyNUBpZo794JK68yerct6/NY",
      "include_colab_link": true
    },
    "kernelspec": {
      "name": "python3",
      "display_name": "Python 3"
    }
  },
  "cells": [
    {
      "cell_type": "markdown",
      "metadata": {
        "id": "view-in-github",
        "colab_type": "text"
      },
      "source": [
        "<a href=\"https://colab.research.google.com/github/Amro-source/DataVisualization/blob/main/Time.ipynb\" target=\"_parent\"><img src=\"https://colab.research.google.com/assets/colab-badge.svg\" alt=\"Open In Colab\"/></a>"
      ]
    },
    {
      "cell_type": "code",
      "metadata": {
        "id": "nccwtBMrM3_M",
        "colab": {
          "base_uri": "https://localhost:8080/",
          "height": 51
        },
        "outputId": "eb3a2ad0-4478-4bc3-db5d-13179d9e447f"
      },
      "source": [
        "\n",
        "import time\n",
        "print(time.ctime())\n",
        "\n",
        "time.sleep(5)\n",
        "print (time.ctime())"
      ],
      "execution_count": null,
      "outputs": [
        {
          "output_type": "stream",
          "text": [
            "Fri May 15 11:59:35 2020\n",
            "Fri May 15 11:59:40 2020\n"
          ],
          "name": "stdout"
        }
      ]
    }
  ]
}